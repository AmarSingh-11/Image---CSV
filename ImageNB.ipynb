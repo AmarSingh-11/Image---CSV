{
 "cells": [
  {
   "cell_type": "code",
   "execution_count": 46,
   "metadata": {},
   "outputs": [],
   "source": [
    "import matplotlib.pyplot as plt\n",
    "import numpy as np\n",
    "import pandas as pd\n",
    "\n",
    "import warnings\n",
    "warnings.filterwarnings('ignore')\n"
   ]
  },
  {
   "cell_type": "code",
   "execution_count": 47,
   "metadata": {},
   "outputs": [
    {
     "name": "stdout",
     "output_type": "stream",
     "text": [
      "Requirement already satisfied: opencv-python in c:\\users\\91638\\anaconda3\\lib\\site-packages (4.8.0.76)\n",
      "Requirement already satisfied: numpy>=1.17.3 in c:\\users\\91638\\anaconda3\\lib\\site-packages (from opencv-python) (1.25.2)\n"
     ]
    }
   ],
   "source": [
    "\n",
    "# package to work with images\n",
    "! pip install opencv-python"
   ]
  },
  {
   "cell_type": "code",
   "execution_count": 48,
   "metadata": {},
   "outputs": [
    {
     "data": {
      "text/plain": [
       "['.ipynb_checkpoints',\n",
       " 'Audio2_Num_Data.csv',\n",
       " 'Audio_Data',\n",
       " 'Audio_NBook.ipynb',\n",
       " 'Audio_Num_Data.csv',\n",
       " 'ImageNB.ipynb',\n",
       " 'Image_Data',\n",
       " 'image_data.csv',\n",
       " 'Img_Num_Data.csv']"
      ]
     },
     "execution_count": 48,
     "metadata": {},
     "output_type": "execute_result"
    }
   ],
   "source": [
    "# List all files and folders in current folder\n",
    "import os\n",
    "\n",
    "os.listdir() "
   ]
  },
  {
   "cell_type": "code",
   "execution_count": 49,
   "metadata": {},
   "outputs": [
    {
     "name": "stdout",
     "output_type": "stream",
     "text": [
      "0\n",
      "1\n",
      "2\n",
      "3\n",
      "4\n",
      "5\n",
      "6\n",
      "7\n",
      "8\n",
      "9\n"
     ]
    }
   ],
   "source": [
    "# List the sub folders in folder Image_Data\n",
    "\n",
    "path=\"Image_Data\"\n",
    "for dir in os.listdir(path):\n",
    "    print(dir)"
   ]
  },
  {
   "cell_type": "code",
   "execution_count": 50,
   "metadata": {},
   "outputs": [
    {
     "name": "stdout",
     "output_type": "stream",
     "text": [
      "img_1.jpg\n",
      "img_108.jpg\n",
      "img_110.jpg\n",
      "img_111.jpg\n",
      "img_114.jpg\n",
      "img_129.jpg\n",
      "img_141.jpg\n",
      "img_146.jpg\n",
      "img_149.jpg\n",
      "img_153.jpg\n",
      "img_157.jpg\n",
      "img_17.jpg\n",
      "img_183.jpg\n",
      "img_188.jpg\n",
      "img_193.jpg\n",
      "img_195.jpg\n",
      "img_196.jpg\n",
      "img_200.jpg\n",
      "img_201.jpg\n",
      "img_203.jpg\n",
      "img_204.jpg\n",
      "img_23.jpg\n",
      "img_248.jpg\n",
      "img_251.jpg\n",
      "img_260.jpg\n",
      "img_264.jpg\n",
      "img_267.jpg\n",
      "img_272.jpg\n",
      "img_273.jpg\n",
      "img_276.jpg\n",
      "img_279.jpg\n",
      "img_285.jpg\n",
      "img_286.jpg\n",
      "img_288.jpg\n",
      "img_292.jpg\n",
      "img_322.jpg\n",
      "img_327.jpg\n",
      "img_344.jpg\n",
      "img_357.jpg\n",
      "img_366.jpg\n",
      "img_373.jpg\n",
      "img_375.jpg\n",
      "img_4.jpg\n",
      "img_403.jpg\n",
      "img_404.jpg\n",
      "img_412.jpg\n",
      "img_418.jpg\n",
      "img_433.jpg\n",
      "img_435.jpg\n",
      "img_472.jpg\n",
      "img_486.jpg\n",
      "img_5.jpg\n",
      "img_502.jpg\n",
      "img_508.jpg\n",
      "img_538.jpg\n",
      "img_54.jpg\n",
      "img_542.jpg\n",
      "img_63.jpg\n",
      "img_69.jpg\n",
      "img_98.jpg\n"
     ]
    }
   ],
   "source": [
    "#List the files in Sub_Folder '0'\n",
    "\n",
    "for dir in os.listdir(os.path.join(path,'0')):\n",
    "    print(dir)"
   ]
  },
  {
   "cell_type": "code",
   "execution_count": 51,
   "metadata": {},
   "outputs": [
    {
     "name": "stdout",
     "output_type": "stream",
     "text": [
      "Number of files in Folder 0 :  60\n",
      "Files Under Folder 0:\n",
      "['img_1.jpg', 'img_108.jpg', 'img_110.jpg', 'img_111.jpg', 'img_114.jpg', 'img_129.jpg', 'img_141.jpg', 'img_146.jpg', 'img_149.jpg', 'img_153.jpg', 'img_157.jpg', 'img_17.jpg', 'img_183.jpg', 'img_188.jpg', 'img_193.jpg', 'img_195.jpg', 'img_196.jpg', 'img_200.jpg', 'img_201.jpg', 'img_203.jpg', 'img_204.jpg', 'img_23.jpg', 'img_248.jpg', 'img_251.jpg', 'img_260.jpg', 'img_264.jpg', 'img_267.jpg', 'img_272.jpg', 'img_273.jpg', 'img_276.jpg', 'img_279.jpg', 'img_285.jpg', 'img_286.jpg', 'img_288.jpg', 'img_292.jpg', 'img_322.jpg', 'img_327.jpg', 'img_344.jpg', 'img_357.jpg', 'img_366.jpg', 'img_373.jpg', 'img_375.jpg', 'img_4.jpg', 'img_403.jpg', 'img_404.jpg', 'img_412.jpg', 'img_418.jpg', 'img_433.jpg', 'img_435.jpg', 'img_472.jpg', 'img_486.jpg', 'img_5.jpg', 'img_502.jpg', 'img_508.jpg', 'img_538.jpg', 'img_54.jpg', 'img_542.jpg', 'img_63.jpg', 'img_69.jpg', 'img_98.jpg']\n"
     ]
    }
   ],
   "source": [
    "# Create a file list\n",
    "\n",
    "file_list = os.listdir(os.path.join(path,'0'))\n",
    "print('Number of files in Folder 0 : ', len(file_list))\n",
    "print('Files Under Folder 0:')\n",
    "print(file_list)"
   ]
  },
  {
   "cell_type": "code",
   "execution_count": 52,
   "metadata": {},
   "outputs": [
    {
     "name": "stdout",
     "output_type": "stream",
     "text": [
      "Requirement already satisfied: numpy in c:\\users\\91638\\anaconda3\\lib\\site-packages (1.25.2)\n",
      "Note: you may need to restart the kernel to use updated packages.\n"
     ]
    }
   ],
   "source": [
    "pip install --upgrade numpy\n"
   ]
  },
  {
   "cell_type": "code",
   "execution_count": 53,
   "metadata": {},
   "outputs": [
    {
     "name": "stdout",
     "output_type": "stream",
     "text": [
      "Requirement already satisfied: opencv-python in c:\\users\\91638\\anaconda3\\lib\\site-packages (4.8.0.76)\n",
      "Requirement already satisfied: numpy>=1.19.3 in c:\\users\\91638\\anaconda3\\lib\\site-packages (from opencv-python) (1.25.2)\n",
      "Note: you may need to restart the kernel to use updated packages.\n"
     ]
    }
   ],
   "source": [
    "pip install --upgrade opencv-python\n"
   ]
  },
  {
   "cell_type": "code",
   "execution_count": 54,
   "metadata": {},
   "outputs": [
    {
     "name": "stdout",
     "output_type": "stream",
     "text": [
      "Image_Data\\0\\img_1.jpg\n",
      "Shape of the array :  (28, 28)\n",
      "Dimension of the array :  2\n"
     ]
    }
   ],
   "source": [
    "# Reading the first file in subfolder '0'\n",
    "\n",
    "import cv2\n",
    "\n",
    "img_path = os.path.join(path,'0',file_list[0])\n",
    "print(img_path)\n",
    "\n",
    "#Reading the image\n",
    "img_arr = cv2.imread(img_path, cv2.IMREAD_GRAYSCALE)\n",
    "print('Shape of the array : ',img_arr.shape)\n",
    "print('Dimension of the array : ',img_arr.ndim)"
   ]
  },
  {
   "cell_type": "code",
   "execution_count": 55,
   "metadata": {},
   "outputs": [
    {
     "name": "stdout",
     "output_type": "stream",
     "text": [
      "[[  3   0   0   3   7   3   0   3   0  11   0   0   3   0   0   3   8   0\n",
      "    0   3   0   0   0   2   0   0   0   0]\n",
      " [  0   0   0   0   0   0   0   1   5   0  12   0  16   0   0   4   0   2\n",
      "    8   3   0   4   8   0   0   0   0   0]\n",
      " [  0   0   2   0   0   0   1   2   1  12   0   8   0   0   6   0  11   0\n",
      "    0   6   7   2   0   0   0   0   0   0]\n",
      " [  0   1   3   0   0   2   3   0   0   0  12   0   0  23   0   0   0   0\n",
      "   11   3   0   0   4   0   0   0   0   0]\n",
      " [  0   1   1   0   0   2   0   0   6   0  25  27 136 135 188  89  84  25\n",
      "    0   0   3   1   0   0   0   0   0   0]\n",
      " [  4   0   0   0   0   0   0   0   3  88 247 236 255 249 250 227 240 136\n",
      "   37   1   0   2   2   0   0   0   0   0]\n",
      " [  2   0   0   3   0   0   4  27 193 251 253 255 255 255 255 240 254 255\n",
      "  213  89   0   0  14   1   0   0   0   0]\n",
      " [  0   0   0   6   0   0  18  56 246 255 253 243 251 255 245 255 255 254\n",
      "  255 231 119   7   0   5   0   0   0   0]\n",
      " [  4   0   0  12  13   0  65 190 246 255 255 251 255 109  88 199 255 247\n",
      "  250 255 234  92   0   0   0   0   0   0]\n",
      " [  0  10   1   0   0  18 163 248 255 235 216 150 128  45   6   8  22 212\n",
      "  255 255 252 172   0  15   0   0   0   0]\n",
      " [  0   1   4   5   0   0 187 255 254  94  57   7   1   0   6   0   0 139\n",
      "  242 255 255 218  62   0   0   0   0   0]\n",
      " [  5   2   0   0  11  56 252 235 253  20   5   2   5   1   0   1   2   0\n",
      "   97 249 248 249 166   8   0   0   0   0]\n",
      " [  0   0   2   0   0  70 255 255 245  25  10   0   0   1   0   4  10   0\n",
      "   10 255 246 250 155   0   0   0   0   0]\n",
      " [  2   0   7  12   0  87 226 255 184   0   3   0  10   5   0   0   0   9\n",
      "    0 183 251 255 222  15   0   0   0   0]\n",
      " [  0   5   1   0  19 230 255 243 255  35   2   0   0   0   0   9   8   0\n",
      "    0  70 245 242 255  14   0   0   0   0]\n",
      " [  0   4   3   0  19 251 239 255 247  30   1   0   4   4  14   0   0   2\n",
      "    0  47 255 255 247  21   0   0   0   0]\n",
      " [  6   0   2   2   0 173 247 252 250  28  10   0   0   8   0   0   0   8\n",
      "    0  67 249 255 255  12   0   0   0   0]\n",
      " [  0   0   6   3   0  88 255 251 255 188  21   0  15   0   8   2  16   0\n",
      "   35 200 247 251 134   4   0   0   0   0]\n",
      " [  0   3   3   1   0  11 211 247 249 255 189  76   0   0   4   0   2   0\n",
      "  169 255 255 247  47   0   0   0   0   0]\n",
      " [  0   6   0   0   2   0  59 205 255 240 255 182  41  56  28  33  42 239\n",
      "  246 251 238 157   0   1   0   0   0   0]\n",
      " [  2   1   0   0   2  10   0 104 239 255 240 255 253 247 237 255 255 250\n",
      "  255 239 255 100   0   1   0   0   0   0]\n",
      " [  1   0   3   0   0   7   0   4 114 255 255 255 255 247 249 253 251 254\n",
      "  237 251  89   0   0   1   0   0   0   0]\n",
      " [  0   0   9   0   0   1  13   0  14 167 255 246 253 255 255 254 242 255\n",
      "  244  61   0  19   0   1   0   0   0   0]\n",
      " [  2   1   7   0   0   4   0  14   0  27  61 143 255 255 252 255 149  21\n",
      "    6  16   0   0   7   0   0   0   0   0]\n",
      " [  0   0   0   0   0   0   0   0   0   0   0   0   0   0   0   0   0   0\n",
      "    0   0   0   0   0   0   0   0   0   0]\n",
      " [  0   0   0   0   0   0   0   0   0   0   0   0   0   0   0   0   0   0\n",
      "    0   0   0   0   0   0   0   0   0   0]\n",
      " [  0   0   0   0   0   0   0   0   0   0   0   0   0   0   0   0   0   0\n",
      "    0   0   0   0   0   0   0   0   0   0]\n",
      " [  0   0   0   0   0   0   0   0   0   0   0   0   0   0   0   0   0   0\n",
      "    0   0   0   0   0   0   0   0   0   0]]\n"
     ]
    }
   ],
   "source": [
    "#Print the image matrix\n",
    "print(img_arr)"
   ]
  },
  {
   "cell_type": "code",
   "execution_count": 56,
   "metadata": {},
   "outputs": [
    {
     "data": {
      "image/png": "[encoded data removed]",
      "text/plain": [
       "<Figure size 640x480 with 1 Axes>"
      ]
     },
     "metadata": {},
     "output_type": "display_data"
    }
   ],
   "source": [
    "#Visualize the image\n",
    "import matplotlib.pyplot as plt\n",
    "\n",
    "plt.imshow(img_arr)\n",
    "plt.axis('off')  \n",
    "plt.show()"
   ]
  },
  {
   "cell_type": "code",
   "execution_count": 57,
   "metadata": {},
   "outputs": [
    {
     "name": "stdout",
     "output_type": "stream",
     "text": [
      "Shape of the new array :  (1, 784)\n",
      "Dimension of the new array :  2\n"
     ]
    }
   ],
   "source": [
    "#Converting to 1D array\n",
    "img_arr_new=img_arr.reshape(1,28*28)\n",
    "print('Shape of the new array : ',img_arr_new.shape)\n",
    "print('Dimension of the new array : ',img_arr_new.ndim)"
   ]
  },
  {
   "cell_type": "code",
   "execution_count": 58,
   "metadata": {},
   "outputs": [],
   "source": [
    "#Converting array to pandas Frame\n",
    "import pandas as pd\n",
    "\n",
    "# convert array into dataframe\n",
    "df = pd.DataFrame(img_arr_new)"
   ]
  },
  {
   "cell_type": "code",
   "execution_count": 59,
   "metadata": {},
   "outputs": [],
   "source": [
    "# Save the dataframe as a csv file\n",
    "#df.to_csv(\"Img_Num_Data.csv\",index=False,header=False)"
   ]
  },
  {
   "cell_type": "markdown",
   "metadata": {},
   "source": [
    "# Complete the work below"
   ]
  },
  {
   "cell_type": "code",
   "execution_count": 60,
   "metadata": {},
   "outputs": [],
   "source": [
    "#How many files are there in all the folders together"
   ]
  },
  {
   "cell_type": "code",
   "execution_count": 61,
   "metadata": {},
   "outputs": [
    {
     "name": "stdout",
     "output_type": "stream",
     "text": [
      "Folder '0' contains 60 files.\n",
      "Folder '1' contains 60 files.\n",
      "Folder '2' contains 60 files.\n",
      "Folder '3' contains 60 files.\n",
      "Folder '4' contains 60 files.\n",
      "Folder '5' contains 70 files.\n",
      "Folder '6' contains 60 files.\n",
      "Folder '7' contains 60 files.\n",
      "Folder '8' contains 60 files.\n",
      "Folder '9' contains 60 files.\n",
      "Total number of files in all folders: 610\n"
     ]
    }
   ],
   "source": [
    "import os\n",
    "\n",
    "path = \"Image_Data\"\n",
    "total_files_count = 0  # Initialize the total file count to zero\n",
    "\n",
    "for dir in os.listdir(path):\n",
    "    subdir_path = os.path.join(path, dir)\n",
    "    if os.path.isdir(subdir_path):\n",
    "        file_count = len(os.listdir(subdir_path))\n",
    "        print(f\"Folder '{dir}' contains {file_count} files.\")\n",
    "        total_files_count += file_count  # Add the file count to the total\n",
    "\n",
    "# Print the total count of files across all subfolders\n",
    "print(f\"Total number of files in all folders: {total_files_count}\")\n"
   ]
  },
  {
   "cell_type": "code",
   "execution_count": 62,
   "metadata": {},
   "outputs": [],
   "source": [
    "#Print the last image and the matrix in folder 9"
   ]
  },
  {
   "cell_type": "code",
   "execution_count": 63,
   "metadata": {},
   "outputs": [
    {
     "name": "stdout",
     "output_type": "stream",
     "text": [
      "img_100.jpg\n",
      "img_11.jpg\n",
      "img_113.jpg\n",
      "img_121.jpg\n",
      "img_158.jpg\n",
      "img_161.jpg\n",
      "img_165.jpg\n",
      "img_180.jpg\n",
      "img_187.jpg\n",
      "img_210.jpg\n",
      "img_211.jpg\n",
      "img_213.jpg\n",
      "img_238.jpg\n",
      "img_262.jpg\n",
      "img_269.jpg\n",
      "img_27.jpg\n",
      "img_28.jpg\n",
      "img_280.jpg\n",
      "img_283.jpg\n",
      "img_296.jpg\n",
      "img_303.jpg\n",
      "img_305.jpg\n",
      "img_307.jpg\n",
      "img_31.jpg\n",
      "img_310.jpg\n",
      "img_323.jpg\n",
      "img_326.jpg\n",
      "img_33.jpg\n",
      "img_338.jpg\n",
      "img_349.jpg\n",
      "img_356.jpg\n",
      "img_368.jpg\n",
      "img_372.jpg\n",
      "img_384.jpg\n",
      "img_40.jpg\n",
      "img_429.jpg\n",
      "img_437.jpg\n",
      "img_439.jpg\n",
      "img_441.jpg\n",
      "img_455.jpg\n",
      "img_457.jpg\n",
      "img_469.jpg\n",
      "img_475.jpg\n",
      "img_483.jpg\n",
      "img_499.jpg\n",
      "img_501.jpg\n",
      "img_520.jpg\n",
      "img_53.jpg\n",
      "img_535.jpg\n",
      "img_546.jpg\n",
      "img_554.jpg\n",
      "img_558.jpg\n",
      "img_562.jpg\n",
      "img_58.jpg\n",
      "img_71.jpg\n",
      "img_83.jpg\n",
      "img_85.jpg\n",
      "img_86.jpg\n",
      "img_88.jpg\n",
      "img_95.jpg\n"
     ]
    }
   ],
   "source": [
    "for dir in os.listdir(os.path.join(path,'9')):\n",
    "    print(dir)"
   ]
  },
  {
   "cell_type": "code",
   "execution_count": 64,
   "metadata": {},
   "outputs": [
    {
     "name": "stdout",
     "output_type": "stream",
     "text": [
      "Number of files in Folder 9 :  60\n",
      "Files Under Folder 9:\n",
      "['img_100.jpg', 'img_11.jpg', 'img_113.jpg', 'img_121.jpg', 'img_158.jpg', 'img_161.jpg', 'img_165.jpg', 'img_180.jpg', 'img_187.jpg', 'img_210.jpg', 'img_211.jpg', 'img_213.jpg', 'img_238.jpg', 'img_262.jpg', 'img_269.jpg', 'img_27.jpg', 'img_28.jpg', 'img_280.jpg', 'img_283.jpg', 'img_296.jpg', 'img_303.jpg', 'img_305.jpg', 'img_307.jpg', 'img_31.jpg', 'img_310.jpg', 'img_323.jpg', 'img_326.jpg', 'img_33.jpg', 'img_338.jpg', 'img_349.jpg', 'img_356.jpg', 'img_368.jpg', 'img_372.jpg', 'img_384.jpg', 'img_40.jpg', 'img_429.jpg', 'img_437.jpg', 'img_439.jpg', 'img_441.jpg', 'img_455.jpg', 'img_457.jpg', 'img_469.jpg', 'img_475.jpg', 'img_483.jpg', 'img_499.jpg', 'img_501.jpg', 'img_520.jpg', 'img_53.jpg', 'img_535.jpg', 'img_546.jpg', 'img_554.jpg', 'img_558.jpg', 'img_562.jpg', 'img_58.jpg', 'img_71.jpg', 'img_83.jpg', 'img_85.jpg', 'img_86.jpg', 'img_88.jpg', 'img_95.jpg']\n"
     ]
    }
   ],
   "source": [
    "# Create a file list\n",
    "\n",
    "file_list = os.listdir(os.path.join(path,'9'))\n",
    "print('Number of files in Folder 9 : ', len(file_list))\n",
    "print('Files Under Folder 9:')\n",
    "print(file_list)"
   ]
  },
  {
   "cell_type": "code",
   "execution_count": 65,
   "metadata": {},
   "outputs": [
    {
     "name": "stdout",
     "output_type": "stream",
     "text": [
      "Image_Data\\9\\img_95.jpg\n",
      "Shape of the array :  (28, 28)\n",
      "Dimension of the array :  2\n",
      "[[  0   0   0   0   0   0   0   0   3   0   0   0   0   3   2   0   1   2\n",
      "    0   0   3  12   4   0   0   0   0   0]\n",
      " [  0   0   0   0   0   0   0   0   0   0   8   8   2   0   0   0   0   8\n",
      "    5   0   0   0   0  12   0   0   0   0]\n",
      " [  0   0   0   0   0   0   0   0   7   1   0   0   0   2   8  12  18   0\n",
      "    0   3   0   0   5   0   0   0   0   0]\n",
      " [  0   0   0   0   0   0   0   0   0   0   0   3   2   0   0   0   0   0\n",
      "    1   5   0   0   6   1   0   0   0   0]\n",
      " [  0   0   0   0   0   0   0   0   0   0   6  10   3   0   2  13   0  19\n",
      "    5   0   7   5   0   0   0   0   0   0]\n",
      " [  0   0   0   0   0   0   0   0   8   0   0   0   0   0   0   0   3   0\n",
      "    1   2   0   2  16   2   0   0   0   0]\n",
      " [  0   0   0   0   0   0   0   0   3   0   0   2   6   2   4  11   9   0\n",
      "    0   8   7   0   0   0   0   0   0   0]\n",
      " [  0   0   0   0   0   0   0   0   0   4   7   1   2  50 151 241 255 241\n",
      "   95  88 234 158   0  11   0   0   0   0]\n",
      " [  0   0   1   0   0   8   0   3   3   0   5   0  76 225 255 251 255 238\n",
      "  230 249 255 247  43   0   0   0   0   0]\n",
      " [  0   0   3  18   5   0   0   0   0   0  95 196 222 255 247 197 216 255\n",
      "  250 242 251 151   0   0   0   0   0   0]\n",
      " [  4   2   0   0   0   6  16   0  79 209 233 255 246 193  92 134 210 248\n",
      "  255 249 255  73   5   4   0   0   0   0]\n",
      " [  0   0  10   0   0   1   0  26 201 241 255 250 147 171 235 255 255 236\n",
      "  246 248 135   1   0   0   0   0   0   0]\n",
      " [  2   0  13   2   8   0   4 180 253 255 255 255 251 247 255 255 248 255\n",
      "  255 255  31  16   0  10   0   0   0   0]\n",
      " [  5   0   5   0   5   0  17 194 244 230 237 242 243 205 135  68 188 242\n",
      "  253 139   0  12   0   0   0   0   0   0]\n",
      " [  0   5   2   0   5   0   0  15   5   0   2   0   0   7   5  50 255 255\n",
      "  218   1   2   0   9   1   0   0   0   0]\n",
      " [  0   8   0   5   6   0  13   0   0   8   0   7   0   0   8 222 252 244\n",
      "  156   0   5   1   0   0   0   0   0   0]\n",
      " [  0   0   0   0   0   0   0   0   0   0  10   4   0   1  44 251 245 213\n",
      "   21   1   0   0  10   0   0   0   0   0]\n",
      " [  0   0   0   0   0   0   0   0   0  18   0   0  20   9 182 255 255 132\n",
      "    1   0   9   0   1   0   0   0   0   0]\n",
      " [  0   0   0   0   0   0   0   0   0  12   0  14   0  73 252 245 222  39\n",
      "    0   0  13   0   0   1   0   0   0   0]\n",
      " [  0   0   0   0   0   0   0   0   0   0   0   5  24 190 253 255 110   0\n",
      "   10   0   3   0   1   0   0   0   0   0]\n",
      " [  0   0   0   0   0   0   0   0   9   7  17   0 156 248 255 214  21   1\n",
      "    8   0   0   2   2   0   0   0   0   0]\n",
      " [  0   0   0   0   0   0   0   0   0   0   0  46 222 229 255  43   2  12\n",
      "    0   1   1   5   0   3   0   0   0   0]\n",
      " [  0   0   0   0   0   0   0   0   2   3   0 212 255 255 208   1   7   1\n",
      "    0   3   1   5   0   4   0   0   0   0]\n",
      " [  0   0   0   0   0   0   0   0   3   0   7 224 244 219  31   0   2   0\n",
      "    7   4   0   5   0   0   0   0   0   0]\n",
      " [  0   0   0   0   0   0   0   0   0  19  58 248 252 163   0   0   0   0\n",
      "    0   0   0   0   0   0   0   0   0   0]\n",
      " [  0   0   0   0   0   0   0   0   1  32 228 255 239  26  12   0   0   0\n",
      "    0   0   0   0   0   0   0   0   0   0]\n",
      " [  0   0   0   0   0   0   0   0   1   9 169 247 107  11  18   0   0   0\n",
      "    0   0   0   0   0   0   0   0   0   0]\n",
      " [  0   0   0   0   0   0   0   0   0   0   0   9   0   0   0  14   0   0\n",
      "    0   0   0   0   0   0   0   0   0   0]]\n"
     ]
    }
   ],
   "source": [
    "\n",
    "import cv2\n",
    "\n",
    "img_path = os.path.join(path,'9',file_list[-1])\n",
    "print(img_path)\n",
    "\n",
    "#Reading the image\n",
    "img_arr = cv2.imread(img_path, cv2.IMREAD_GRAYSCALE)\n",
    "print('Shape of the array : ',img_arr.shape)\n",
    "print('Dimension of the array : ',img_arr.ndim)\n",
    "print(img_arr)"
   ]
  },
  {
   "cell_type": "code",
   "execution_count": 66,
   "metadata": {},
   "outputs": [],
   "source": [
    "#Print th 6th image in folder 4 along with the matrix"
   ]
  },
  {
   "cell_type": "code",
   "execution_count": 67,
   "metadata": {},
   "outputs": [
    {
     "name": "stdout",
     "output_type": "stream",
     "text": [
      "img_115.jpg\n",
      "img_122.jpg\n",
      "img_130.jpg\n",
      "img_143.jpg\n",
      "img_145.jpg\n",
      "img_148.jpg\n",
      "img_163.jpg\n",
      "img_168.jpg\n",
      "img_170.jpg\n",
      "img_184.jpg\n",
      "img_205.jpg\n",
      "img_215.jpg\n",
      "img_250.jpg\n",
      "img_258.jpg\n",
      "img_277.jpg\n",
      "img_291.jpg\n",
      "img_299.jpg\n",
      "img_3.jpg\n",
      "img_309.jpg\n",
      "img_32.jpg\n",
      "img_329.jpg\n",
      "img_332.jpg\n",
      "img_351.jpg\n",
      "img_364.jpg\n",
      "img_376.jpg\n",
      "img_378.jpg\n",
      "img_382.jpg\n",
      "img_39.jpg\n",
      "img_390.jpg\n",
      "img_398.jpg\n",
      "img_402.jpg\n",
      "img_409.jpg\n",
      "img_415.jpg\n",
      "img_42.jpg\n",
      "img_420.jpg\n",
      "img_423.jpg\n",
      "img_428.jpg\n",
      "img_43.jpg\n",
      "img_430.jpg\n",
      "img_445.jpg\n",
      "img_446.jpg\n",
      "img_448.jpg\n",
      "img_450.jpg\n",
      "img_467.jpg\n",
      "img_482.jpg\n",
      "img_49.jpg\n",
      "img_490.jpg\n",
      "img_494.jpg\n",
      "img_496.jpg\n",
      "img_516.jpg\n",
      "img_524.jpg\n",
      "img_530.jpg\n",
      "img_531.jpg\n",
      "img_541.jpg\n",
      "img_548.jpg\n",
      "img_66.jpg\n",
      "img_75.jpg\n",
      "img_78.jpg\n",
      "img_81.jpg\n",
      "img_92.jpg\n",
      "Number of files in Folder 4 :  60\n",
      "Files Under Folder 4:\n",
      "['img_115.jpg', 'img_122.jpg', 'img_130.jpg', 'img_143.jpg', 'img_145.jpg', 'img_148.jpg', 'img_163.jpg', 'img_168.jpg', 'img_170.jpg', 'img_184.jpg', 'img_205.jpg', 'img_215.jpg', 'img_250.jpg', 'img_258.jpg', 'img_277.jpg', 'img_291.jpg', 'img_299.jpg', 'img_3.jpg', 'img_309.jpg', 'img_32.jpg', 'img_329.jpg', 'img_332.jpg', 'img_351.jpg', 'img_364.jpg', 'img_376.jpg', 'img_378.jpg', 'img_382.jpg', 'img_39.jpg', 'img_390.jpg', 'img_398.jpg', 'img_402.jpg', 'img_409.jpg', 'img_415.jpg', 'img_42.jpg', 'img_420.jpg', 'img_423.jpg', 'img_428.jpg', 'img_43.jpg', 'img_430.jpg', 'img_445.jpg', 'img_446.jpg', 'img_448.jpg', 'img_450.jpg', 'img_467.jpg', 'img_482.jpg', 'img_49.jpg', 'img_490.jpg', 'img_494.jpg', 'img_496.jpg', 'img_516.jpg', 'img_524.jpg', 'img_530.jpg', 'img_531.jpg', 'img_541.jpg', 'img_548.jpg', 'img_66.jpg', 'img_75.jpg', 'img_78.jpg', 'img_81.jpg', 'img_92.jpg']\n",
      "Image_Data\\4\\img_148.jpg\n",
      "Shape of the array :  (28, 28)\n",
      "Dimension of the array :  2\n",
      "[[  0   0   0   0   0   0   0   0   0   0   0   0   0   0   0   0   3   0\n",
      "    4   4   0   0   4   0   0   2   7   1]\n",
      " [  0   0   0   0   0   0   0   0   0   0   0   0   0   0   0   0   0   8\n",
      "    0   0  21   6   0  17   5   0   0   0]\n",
      " [  0   0   0   0   0   0   0   0   0   0   0   0   0   0   0   0   6   2\n",
      "    0   0   0   0   0   0   0   0   0   9]\n",
      " [  0   0   0   0   0   0   0   0   0   0   0   0   0   0   0   0   1   0\n",
      "    0  18   1   1  14   4   0  13   6   0]\n",
      " [  0   0   0   0   0   0   0   0   0   0   0   0   0   0   0   0   2  13\n",
      "    0   0   6   2   0   0   0   0   0   0]\n",
      " [  0   0   0   0   0   0   0   0   0   0   0   0   0   0   0   0   0   0\n",
      "    0  19   4   5 112 255 255 131  24   0]\n",
      " [  0   0   0   0   0   0   0   0   0   0   0   0   0   0   0   0   9  10\n",
      "    0   0  16 178 255 243 247  88   0   0]\n",
      " [  0   0   0   0   0   0   0   0   0   0   0   0   0   0   0   0   0   0\n",
      "    0  44 162 249 255 237 107  12   0  12]\n",
      " [  3   1   0  14   0   5   4   0   4   0   9  22   0   6   0  10  10   0\n",
      "   34 206 252 255 221  71   0   0   0   0]\n",
      " [  5   0   8   0   0   6   0  19   0   1  92 255  97   0  18   0   0   0\n",
      "  216 251 255 241  68  16   0   0   0   0]\n",
      " [  5   0   6   0   1   3   0   7   4  20 208 238 144   0  19   4   7 163\n",
      "  255 255 238 110  12   0   0   0   0   0]\n",
      " [  1   0   0  11   0   0   8   0   9 172 250 255 144   9   0  15 162 247\n",
      "  253 230 129   3   0  20   0   0   0   0]\n",
      " [  0   2   0  11   0   1   0  41 196 255 246 244  48   0   0 161 249 240\n",
      "  255 132   0   0   0   0   0   0   0   0]\n",
      " [  0   0   7   0   0   6   7 174 253 255 255  68   0  80 143 242 255 253\n",
      "  194  16   0   0  25   0   0   0   0   0]\n",
      " [  1   0   7   0   4   2 112 254 238 255 242 240 241 229 247 255 255 243\n",
      "  255 208 234  99   0   7   0   0   0   0]\n",
      " [  2   0   0   6   0   0 239 255 255 244 248 255 243 255 250 248 255 244\n",
      "  255 247 149  20   0   0   0   0   0   0]\n",
      " [  0  16   0   0  23   0 203 255 246 250 255 247 248 255 230 246 122 207\n",
      "  208  89   0   0  15   0   0   0   0   0]\n",
      " [  0   9   0   0   0   0  42  64  89  93  23 162 235 246 254  74   3   4\n",
      "    3   0   0   0   0   2   0   0   0   0]\n",
      " [  1   0   0  10   0  11   0   0   5  12  27 219 253 255 153   0   5   0\n",
      "    0   2  12  10   8   9   0   0   0   0]\n",
      " [  1   0   0   4   0  18   0   7   0   0 173 255 255 181   0   0   0   8\n",
      "    9   0   0   0   0   0   0   0   0   0]\n",
      " [  0   3   0   1   0   0   0   0  11  74 241 255 245  68   0  15   9   0\n",
      "    0   5   9   3   2   7   0   0   0   0]\n",
      " [  0   6   0   1   8   3  16   1   4 175 251 248 120   0  11   0  10   0\n",
      "    0   2   2   0   0   1   0   0   0   0]\n",
      " [ 12   9   0   0   0   0   0   0  15 251 255 204  14   0   0   0   0   3\n",
      "    7   0   0   0   4   1   0   0   0   0]\n",
      " [  0   0   0  11   0   4   0   4  27 251 240  74   1  10   0   6   5   0\n",
      "    0   1   5   4   0   0   0   0   0   0]\n",
      " [  0   0   0   0   0   0   0   0  21 216 153   0   0   6   0   0   0   0\n",
      "    0   0   0   0   0   0   0   0   0   0]\n",
      " [  0   0   0   0   0   0   0   0   0  28   3   0   0   0   4   3   0   0\n",
      "    0   0   0   0   0   0   0   0   0   0]\n",
      " [  0   0   0   0   0   0   0   0   7   0   0   6   1   0  11   0   0   0\n",
      "    0   0   0   0   0   0   0   0   0   0]\n",
      " [  0   0   0   0   0   0   0   0   0  16   9   0   2   0   0   2   0   0\n",
      "    0   0   0   0   0   0   0   0   0   0]]\n"
     ]
    }
   ],
   "source": [
    "for dir in os.listdir(os.path.join(path,'4')):\n",
    "    print(dir)\n",
    "    \n",
    "# Create a file list\n",
    "\n",
    "file_list = os.listdir(os.path.join(path,'4'))\n",
    "print('Number of files in Folder 4 : ', len(file_list))\n",
    "print('Files Under Folder 4:')\n",
    "print(file_list)\n",
    "\n",
    "\n",
    "import cv2\n",
    "\n",
    "img_path = os.path.join(path,'4',file_list[5])\n",
    "print(img_path)\n",
    "\n",
    "#Reading the image\n",
    "img_arr = cv2.imread(img_path, cv2.IMREAD_GRAYSCALE)\n",
    "print('Shape of the array : ',img_arr.shape)\n",
    "print('Dimension of the array : ',img_arr.ndim)\n",
    "print(img_arr)"
   ]
  },
  {
   "cell_type": "code",
   "execution_count": 68,
   "metadata": {},
   "outputs": [],
   "source": [
    "#Print All the images in folder 8"
   ]
  },
  {
   "cell_type": "code",
   "execution_count": 69,
   "metadata": {},
   "outputs": [
    {
     "name": "stdout",
     "output_type": "stream",
     "text": [
      "Number of files in Folder 8 :  60\n",
      "Files Under Folder 8:\n",
      "['img_10.jpg', 'img_105.jpg', 'img_106.jpg', 'img_131.jpg', 'img_135.jpg', 'img_154.jpg', 'img_171.jpg', 'img_175.jpg', 'img_176.jpg', 'img_177.jpg', 'img_197.jpg', 'img_20.jpg', 'img_214.jpg', 'img_220.jpg', 'img_222.jpg', 'img_245.jpg', 'img_246.jpg', 'img_268.jpg', 'img_290.jpg', 'img_30.jpg', 'img_300.jpg', 'img_318.jpg', 'img_319.jpg', 'img_331.jpg', 'img_337.jpg', 'img_377.jpg', 'img_395.jpg', 'img_406.jpg', 'img_411.jpg', 'img_416.jpg', 'img_421.jpg', 'img_425.jpg', 'img_440.jpg', 'img_449.jpg', 'img_454.jpg', 'img_461.jpg', 'img_466.jpg', 'img_485.jpg', 'img_506.jpg', 'img_512.jpg', 'img_514.jpg', 'img_517.jpg', 'img_519.jpg', 'img_528.jpg', 'img_534.jpg', 'img_551.jpg', 'img_605.jpg', 'img_611.jpg', 'img_618.jpg', 'img_629.jpg', 'img_637.jpg', 'img_639.jpg', 'img_640.jpg', 'img_647.jpg', 'img_653.jpg', 'img_67.jpg', 'img_672.jpg', 'img_674.jpg', 'img_82.jpg', 'img_87.jpg']\n"
     ]
    }
   ],
   "source": [
    "\n",
    "   \n",
    "# Create a file list\n",
    "\n",
    "file_list = os.listdir(os.path.join(path,'8'))\n",
    "print('Number of files in Folder 8 : ', len(file_list))\n",
    "print('Files Under Folder 8:')\n",
    "print(file_list)\n",
    "\n"
   ]
  },
  {
   "cell_type": "code",
   "execution_count": 70,
   "metadata": {},
   "outputs": [],
   "source": [
    "#Create a csv file using data from all the files in the folder Image_Data (With proper header as x1,x2,..... and also the digit)\n",
    "\n",
    "#Digit,x1,x2, ........ all the features\n"
   ]
  },
  {
   "cell_type": "code",
   "execution_count": 73,
   "metadata": {},
   "outputs": [
    {
     "name": "stdout",
     "output_type": "stream",
     "text": [
      "CSV file 'image_data_new.csv' has been created using DataFrame.\n"
     ]
    }
   ],
   "source": [
    "import os\n",
    "import cv2\n",
    "import pandas as pd\n",
    "\n",
    "# Define the folder path\n",
    "folder_path = \"Image_Data\"\n",
    "\n",
    "# Create an empty DataFrame\n",
    "df = pd.DataFrame()\n",
    "\n",
    "# Iterate through subfolders\n",
    "for folder_name in os.listdir(folder_path):\n",
    "    folder_dir = os.path.join(folder_path, folder_name)\n",
    "\n",
    "    # Check if the item is a directory\n",
    "    if os.path.isdir(folder_dir):\n",
    "        digit = int(folder_name)  # Convert the folder name to a digit\n",
    "\n",
    "        # Iterate through image files in the subfolder\n",
    "        for image_file in os.listdir(folder_dir):\n",
    "            image_path = os.path.join(folder_dir, image_file)\n",
    "\n",
    "            # Read the image and flatten it to a 1D array\n",
    "            image = cv2.imread(image_path, cv2.IMREAD_GRAYSCALE)\n",
    "            image_flat = image.reshape(-1)\n",
    "\n",
    "            # Create a DataFrame row with the digit label and image pixel values as features\n",
    "            row = pd.Series([digit] + image_flat.tolist())\n",
    "\n",
    "            # Append the row to the DataFrame\n",
    "            df = df.append(row, ignore_index=True)\n",
    "\n",
    "# Add column names (headers) to the DataFrame\n",
    "columns = [\"Digit\"] + [f\"x{i}\" for i in range(1, 785)]  # Assuming images are 28x28 pixels\n",
    "df.columns = columns\n",
    "\n",
    "# Save the DataFrame to a CSV file\n",
    "df.to_csv(\"image_data_new.csv\", index=False)\n",
    "\n",
    "print(\"CSV file 'image_data_new.csv' has been created using DataFrame.\")\n"
   ]
  }
 ],
 "metadata": {
  "kernelspec": {
   "display_name": "Python 3 (ipykernel)",
   "language": "python",
   "name": "python3"
  },
  "language_info": {
   "codemirror_mode": {
    "name": "ipython",
    "version": 3
   },
   "file_extension": ".py",
   "mimetype": "text/x-python",
   "name": "python",
   "nbconvert_exporter": "python",
   "pygments_lexer": "ipython3",
   "version": "3.9.13"
  }
 },
 "nbformat": 4,
 "nbformat_minor": 2
}
